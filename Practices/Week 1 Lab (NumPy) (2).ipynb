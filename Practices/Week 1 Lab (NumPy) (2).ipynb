{
 "cells": [
  {
   "cell_type": "code",
   "execution_count": 111,
   "id": "adbd68c0-70ce-4dac-a228-1ffa2d21d141",
   "metadata": {},
   "outputs": [],
   "source": [
    "import numpy as np"
   ]
  },
  {
   "cell_type": "code",
   "execution_count": 112,
   "id": "82c2a496-3ba0-48f3-9b20-0a34e7aa2a8b",
   "metadata": {},
   "outputs": [],
   "source": [
    "#Creating Arrays and Common Methods"
   ]
  },
  {
   "cell_type": "code",
   "execution_count": 113,
   "id": "8065168b-0f29-41d1-a151-9147fd5776ca",
   "metadata": {},
   "outputs": [],
   "source": [
    "python_list = [1,2,3,4,5,6,7]"
   ]
  },
  {
   "cell_type": "code",
   "execution_count": 114,
   "id": "912de71d-0ddb-4ba0-bb2f-f6a5729ff6ff",
   "metadata": {},
   "outputs": [
    {
     "name": "stdout",
     "output_type": "stream",
     "text": [
      "[1, 2, 3, 4, 5, 6, 7]\n"
     ]
    }
   ],
   "source": [
    "print(python_list)"
   ]
  },
  {
   "cell_type": "code",
   "execution_count": 115,
   "id": "51bb5bb9-2ec1-46e0-a12c-e8d8197c1629",
   "metadata": {},
   "outputs": [
    {
     "name": "stdout",
     "output_type": "stream",
     "text": [
      "<class 'list'>\n"
     ]
    }
   ],
   "source": [
    "print(type(python_list))"
   ]
  },
  {
   "cell_type": "code",
   "execution_count": 116,
   "id": "132adca0-f869-414d-bbb0-b515c2c5ce2e",
   "metadata": {},
   "outputs": [],
   "source": [
    "numpy_array_demo = np.array(python_list)"
   ]
  },
  {
   "cell_type": "code",
   "execution_count": 117,
   "id": "f1f2399b-8ef7-4c2d-b69b-52257bd48222",
   "metadata": {},
   "outputs": [
    {
     "name": "stdout",
     "output_type": "stream",
     "text": [
      "[1 2 3 4 5 6 7]\n"
     ]
    }
   ],
   "source": [
    "print(numpy_array_demo)"
   ]
  },
  {
   "cell_type": "code",
   "execution_count": 118,
   "id": "aea35c2b-1c41-4f37-98f1-e1ab6742094c",
   "metadata": {},
   "outputs": [
    {
     "name": "stdout",
     "output_type": "stream",
     "text": [
      "<class 'numpy.ndarray'>\n"
     ]
    }
   ],
   "source": [
    "print(type(numpy_array_demo))"
   ]
  },
  {
   "cell_type": "code",
   "execution_count": 119,
   "id": "9c4541cc-2785-4e68-8ef0-e21ec1e26d9b",
   "metadata": {},
   "outputs": [],
   "source": [
    "python2dArray = [[1336, 1437, 2436], [3380, 3340, 3320], [3360, 3337, 4351], [4377, 4323, 4348]]"
   ]
  },
  {
   "cell_type": "code",
   "execution_count": 120,
   "id": "fb4edfc1-f4f8-4bd1-a370-aad1cc2efc6d",
   "metadata": {},
   "outputs": [
    {
     "name": "stdout",
     "output_type": "stream",
     "text": [
      "[[1336, 1437, 2436], [3380, 3340, 3320], [3360, 3337, 4351], [4377, 4323, 4348]]\n"
     ]
    }
   ],
   "source": [
    "print(python2dArray)"
   ]
  },
  {
   "cell_type": "code",
   "execution_count": 121,
   "id": "c2c9fcf9-0622-4502-82ec-b37441761bd6",
   "metadata": {},
   "outputs": [
    {
     "name": "stdout",
     "output_type": "stream",
     "text": [
      "<class 'list'>\n"
     ]
    }
   ],
   "source": [
    "print(type(python2dArray))"
   ]
  },
  {
   "cell_type": "code",
   "execution_count": 122,
   "id": "7fcd85dd-d7fc-4c2d-a8b0-f55315283453",
   "metadata": {},
   "outputs": [],
   "source": [
    "numpy2dArray = np.array(python2dArray)"
   ]
  },
  {
   "cell_type": "code",
   "execution_count": 123,
   "id": "7b22edf9-5296-4ca4-84ae-da6cd523a0c1",
   "metadata": {},
   "outputs": [
    {
     "name": "stdout",
     "output_type": "stream",
     "text": [
      "[[1336 1437 2436]\n",
      " [3380 3340 3320]\n",
      " [3360 3337 4351]\n",
      " [4377 4323 4348]]\n"
     ]
    }
   ],
   "source": [
    "print(numpy2dArray)"
   ]
  },
  {
   "cell_type": "code",
   "execution_count": 124,
   "id": "97698880-92d0-47ad-91c7-750bca148929",
   "metadata": {},
   "outputs": [
    {
     "name": "stdout",
     "output_type": "stream",
     "text": [
      "<class 'numpy.ndarray'>\n"
     ]
    }
   ],
   "source": [
    "print(type(numpy2dArray))"
   ]
  },
  {
   "cell_type": "code",
   "execution_count": 125,
   "id": "2bf104d7-1245-44ff-af97-8a20f8b8b1aa",
   "metadata": {},
   "outputs": [
    {
     "data": {
      "text/plain": [
       "array([ 0,  1,  2,  3,  4,  5,  6,  7,  8,  9, 10, 11, 12, 13, 14, 15, 16,\n",
       "       17, 18, 19, 20, 21, 22, 23, 24, 25, 26, 27, 28, 29, 30, 31, 32, 33,\n",
       "       34, 35, 36, 37, 38, 39, 40, 41, 42, 43, 44, 45, 46, 47, 48, 49, 50,\n",
       "       51, 52, 53, 54, 55, 56, 57, 58, 59, 60, 61, 62, 63, 64, 65, 66, 67,\n",
       "       68, 69, 70, 71, 72, 73, 74, 75, 76, 77, 78, 79, 80, 81, 82, 83, 84,\n",
       "       85, 86, 87, 88, 89, 90, 91, 92, 93, 94, 95, 96, 97, 98, 99])"
      ]
     },
     "execution_count": 125,
     "metadata": {},
     "output_type": "execute_result"
    }
   ],
   "source": [
    "np.arange(0,100)"
   ]
  },
  {
   "cell_type": "code",
   "execution_count": 126,
   "id": "25081ca6-f5fe-4803-b437-4a29b2a509b3",
   "metadata": {},
   "outputs": [
    {
     "data": {
      "text/plain": [
       "array([ 0,  5, 10, 15, 20, 25, 30, 35, 40, 45, 50, 55, 60, 65, 70, 75, 80,\n",
       "       85, 90, 95])"
      ]
     },
     "execution_count": 126,
     "metadata": {},
     "output_type": "execute_result"
    }
   ],
   "source": [
    "np.arange(0,100,5)"
   ]
  },
  {
   "cell_type": "code",
   "execution_count": 127,
   "id": "5497f220-f259-44a8-a866-d2cb6ff6fb02",
   "metadata": {},
   "outputs": [
    {
     "data": {
      "text/plain": [
       "array([[ 0,  1,  2,  3,  4,  5,  6,  7,  8,  9],\n",
       "       [10, 11, 12, 13, 14, 15, 16, 17, 18, 19],\n",
       "       [20, 21, 22, 23, 24, 25, 26, 27, 28, 29],\n",
       "       [30, 31, 32, 33, 34, 35, 36, 37, 38, 39],\n",
       "       [40, 41, 42, 43, 44, 45, 46, 47, 48, 49],\n",
       "       [50, 51, 52, 53, 54, 55, 56, 57, 58, 59],\n",
       "       [60, 61, 62, 63, 64, 65, 66, 67, 68, 69],\n",
       "       [70, 71, 72, 73, 74, 75, 76, 77, 78, 79],\n",
       "       [80, 81, 82, 83, 84, 85, 86, 87, 88, 89],\n",
       "       [90, 91, 92, 93, 94, 95, 96, 97, 98, 99]])"
      ]
     },
     "execution_count": 127,
     "metadata": {},
     "output_type": "execute_result"
    }
   ],
   "source": [
    "np.arange(0,100).reshape(10,10)"
   ]
  },
  {
   "cell_type": "code",
   "execution_count": 128,
   "id": "3a913ded-9a26-498f-9720-0a3d25f93c2f",
   "metadata": {},
   "outputs": [
    {
     "data": {
      "text/plain": [
       "array([0., 0., 0., 0., 0., 0., 0., 0., 0., 0., 0., 0., 0., 0., 0., 0., 0.,\n",
       "       0., 0., 0., 0., 0., 0., 0., 0.])"
      ]
     },
     "execution_count": 128,
     "metadata": {},
     "output_type": "execute_result"
    }
   ],
   "source": [
    "np.zeros(25)"
   ]
  },
  {
   "cell_type": "code",
   "execution_count": 129,
   "id": "f27e76b1-d35a-4b96-a496-c4ed5d704614",
   "metadata": {},
   "outputs": [
    {
     "data": {
      "text/plain": [
       "array([[0., 0., 0., 0., 0.],\n",
       "       [0., 0., 0., 0., 0.],\n",
       "       [0., 0., 0., 0., 0.],\n",
       "       [0., 0., 0., 0., 0.],\n",
       "       [0., 0., 0., 0., 0.]])"
      ]
     },
     "execution_count": 129,
     "metadata": {},
     "output_type": "execute_result"
    }
   ],
   "source": [
    "np.zeros(25).reshape(5,5)"
   ]
  },
  {
   "cell_type": "code",
   "execution_count": 130,
   "id": "f1b14923-e05f-47df-81a4-69e0200081d2",
   "metadata": {},
   "outputs": [
    {
     "data": {
      "text/plain": [
       "array([1., 1., 1., 1., 1., 1., 1., 1., 1., 1., 1., 1., 1., 1., 1., 1., 1.,\n",
       "       1., 1., 1., 1., 1., 1., 1., 1.])"
      ]
     },
     "execution_count": 130,
     "metadata": {},
     "output_type": "execute_result"
    }
   ],
   "source": [
    "np.ones(25)"
   ]
  },
  {
   "cell_type": "code",
   "execution_count": 131,
   "id": "bfd793ce-7afc-4fb2-b7c7-2ad2fb2eecc0",
   "metadata": {},
   "outputs": [
    {
     "data": {
      "text/plain": [
       "array([[1., 1., 1., 1., 1.],\n",
       "       [1., 1., 1., 1., 1.],\n",
       "       [1., 1., 1., 1., 1.],\n",
       "       [1., 1., 1., 1., 1.],\n",
       "       [1., 1., 1., 1., 1.]])"
      ]
     },
     "execution_count": 131,
     "metadata": {},
     "output_type": "execute_result"
    }
   ],
   "source": [
    "np.ones(25).reshape(5,5)"
   ]
  },
  {
   "cell_type": "code",
   "execution_count": 132,
   "id": "9ab60b2c-bf80-4925-af8a-79da3965a8e7",
   "metadata": {},
   "outputs": [
    {
     "data": {
      "text/plain": [
       "array([[1, 1, 1, 1, 1],\n",
       "       [1, 1, 1, 1, 1],\n",
       "       [1, 1, 1, 1, 1],\n",
       "       [1, 1, 1, 1, 1],\n",
       "       [1, 1, 1, 1, 1]])"
      ]
     },
     "execution_count": 132,
     "metadata": {},
     "output_type": "execute_result"
    }
   ],
   "source": [
    "np.ones(25, dtype=int).reshape(5,5)"
   ]
  },
  {
   "cell_type": "code",
   "execution_count": 133,
   "id": "0d5fb479-a73e-4633-87ff-8e236fc9fe62",
   "metadata": {},
   "outputs": [
    {
     "data": {
      "text/plain": [
       "array([[1., 0., 0., 0., 0., 0., 0., 0., 0., 0., 0.],\n",
       "       [0., 1., 0., 0., 0., 0., 0., 0., 0., 0., 0.],\n",
       "       [0., 0., 1., 0., 0., 0., 0., 0., 0., 0., 0.],\n",
       "       [0., 0., 0., 1., 0., 0., 0., 0., 0., 0., 0.],\n",
       "       [0., 0., 0., 0., 1., 0., 0., 0., 0., 0., 0.],\n",
       "       [0., 0., 0., 0., 0., 1., 0., 0., 0., 0., 0.],\n",
       "       [0., 0., 0., 0., 0., 0., 1., 0., 0., 0., 0.],\n",
       "       [0., 0., 0., 0., 0., 0., 0., 1., 0., 0., 0.],\n",
       "       [0., 0., 0., 0., 0., 0., 0., 0., 1., 0., 0.],\n",
       "       [0., 0., 0., 0., 0., 0., 0., 0., 0., 1., 0.],\n",
       "       [0., 0., 0., 0., 0., 0., 0., 0., 0., 0., 1.]])"
      ]
     },
     "execution_count": 133,
     "metadata": {},
     "output_type": "execute_result"
    }
   ],
   "source": [
    "np.eye(11)"
   ]
  },
  {
   "cell_type": "code",
   "execution_count": 134,
   "id": "7b05ab64-7a77-4cb2-8517-5dce92552191",
   "metadata": {},
   "outputs": [
    {
     "data": {
      "text/plain": [
       "array([0.91337457, 0.51226669, 0.04762272, 0.53873064, 0.57709297,\n",
       "       0.05451663, 0.30053196, 0.27319976, 0.88944207, 0.48794774,\n",
       "       0.56476714, 0.7616209 , 0.63047912, 0.71123871, 0.47525833,\n",
       "       0.57146213, 0.78361128])"
      ]
     },
     "execution_count": 134,
     "metadata": {},
     "output_type": "execute_result"
    }
   ],
   "source": [
    "np.random.rand(17)"
   ]
  },
  {
   "cell_type": "code",
   "execution_count": 135,
   "id": "02b03fc9-6fa2-4cb2-93f6-6813a5d785a1",
   "metadata": {},
   "outputs": [
    {
     "data": {
      "text/plain": [
       "array([ 0.99150059,  0.18072595,  0.11736834,  0.63182138,  1.07638096,\n",
       "       -0.42930143,  1.00011323])"
      ]
     },
     "execution_count": 135,
     "metadata": {},
     "output_type": "execute_result"
    }
   ],
   "source": [
    "np.random.randn(7)"
   ]
  },
  {
   "cell_type": "code",
   "execution_count": 136,
   "id": "4a948d9f-ba06-44d6-b521-e64f4a0fa692",
   "metadata": {},
   "outputs": [
    {
     "data": {
      "text/plain": [
       "113351"
      ]
     },
     "execution_count": 136,
     "metadata": {},
     "output_type": "execute_result"
    }
   ],
   "source": [
    "np.random.randint(720000)"
   ]
  },
  {
   "cell_type": "code",
   "execution_count": 137,
   "id": "f40e35a2-1b5b-4d50-858a-cd7d60eaa2fa",
   "metadata": {},
   "outputs": [
    {
     "data": {
      "text/plain": [
       "array([136524, 652311, 654267, 341842, 221190, 353262, 340518, 209524,\n",
       "       203680, 319934, 509907, 692630, 123844, 458861, 118253, 641238,\n",
       "       137359, 292650, 704320, 583539, 554479, 440160, 242921, 105350,\n",
       "       354309])"
      ]
     },
     "execution_count": 137,
     "metadata": {},
     "output_type": "execute_result"
    }
   ],
   "source": [
    "np.random.randint(100000, 720000, 25)"
   ]
  },
  {
   "cell_type": "code",
   "execution_count": 138,
   "id": "5e3c2288-de84-4df2-9dec-3bacbd35a04d",
   "metadata": {},
   "outputs": [],
   "source": [
    "A = np.random.randint(100000, 720000, 25).reshape(5,5)"
   ]
  },
  {
   "cell_type": "code",
   "execution_count": 139,
   "id": "097544f7-b69b-44df-9fd3-25d002951367",
   "metadata": {},
   "outputs": [
    {
     "name": "stdout",
     "output_type": "stream",
     "text": [
      "[[468905 252537 125472 195664 288616]\n",
      " [657102 633535 315605 630335 275687]\n",
      " [535887 561530 199645 688508 245719]\n",
      " [346753 340397 536618 600143 537804]\n",
      " [159475 342924 354213 656326 155870]]\n"
     ]
    }
   ],
   "source": [
    "print(A)"
   ]
  },
  {
   "cell_type": "code",
   "execution_count": 140,
   "id": "e9989bc7-164d-48b4-8eea-0a16f71415d7",
   "metadata": {},
   "outputs": [
    {
     "name": "stdout",
     "output_type": "stream",
     "text": [
      "The smallest value in A is 125472, and is located at position 2\n"
     ]
    }
   ],
   "source": [
    "print(f'The smallest value in A is {A.min()}, and is located at position {A.argmin()}')"
   ]
  },
  {
   "cell_type": "code",
   "execution_count": 141,
   "id": "815a6b8f-e830-4c5f-bbd8-f973917c529d",
   "metadata": {},
   "outputs": [
    {
     "name": "stdout",
     "output_type": "stream",
     "text": [
      "The largest value in A is 688508, and is located at position 13\n"
     ]
    }
   ],
   "source": [
    "print(f'The largest value in A is {A.max()}, and is located at position {A.argmax()}')"
   ]
  },
  {
   "cell_type": "code",
   "execution_count": 142,
   "id": "32de501a-a5a0-4b5e-8e3f-80332c1cd0e4",
   "metadata": {},
   "outputs": [
    {
     "data": {
      "text/plain": [
       "(5, 5)"
      ]
     },
     "execution_count": 142,
     "metadata": {},
     "output_type": "execute_result"
    }
   ],
   "source": [
    "A.shape"
   ]
  },
  {
   "cell_type": "code",
   "execution_count": 143,
   "id": "2c033bd6-5b41-4769-b57e-174bb66997f9",
   "metadata": {},
   "outputs": [
    {
     "data": {
      "text/plain": [
       "(5, 5)"
      ]
     },
     "execution_count": 143,
     "metadata": {},
     "output_type": "execute_result"
    }
   ],
   "source": [
    "np.shape(A)"
   ]
  },
  {
   "cell_type": "code",
   "execution_count": 161,
   "id": "5b8d16e2-1324-4ef9-9474-73dbadb1ff27",
   "metadata": {},
   "outputs": [],
   "source": [
    "#Common Operations"
   ]
  },
  {
   "cell_type": "code",
   "execution_count": 179,
   "id": "6b9264b5-042b-49fa-a625-de32a495515b",
   "metadata": {},
   "outputs": [],
   "source": [
    "A = np.arange(1,25)\n",
    "B = np.arange(1, 48, 2)\n",
    "C = np.arange(0,25).reshape(5,5)\n",
    "D = np.arange(0,25).reshape(5,5)\n",
    "E = np.arange(1,25).reshape(3,8)\n",
    "F = np.arange(12)"
   ]
  },
  {
   "cell_type": "code",
   "execution_count": 180,
   "id": "5996191e-41e8-4ab8-94bf-704b0c4a6a53",
   "metadata": {},
   "outputs": [
    {
     "name": "stdout",
     "output_type": "stream",
     "text": [
      "A: [ 1  2  3  4  5  6  7  8  9 10 11 12 13 14 15 16 17 18 19 20 21 22 23 24]\n",
      "B: [ 1  3  5  7  9 11 13 15 17 19 21 23 25 27 29 31 33 35 37 39 41 43 45 47]\n",
      "C: [[ 0  1  2  3  4]\n",
      " [ 5  6  7  8  9]\n",
      " [10 11 12 13 14]\n",
      " [15 16 17 18 19]\n",
      " [20 21 22 23 24]]\n",
      "D: [[ 0  1  2  3  4]\n",
      " [ 5  6  7  8  9]\n",
      " [10 11 12 13 14]\n",
      " [15 16 17 18 19]\n",
      " [20 21 22 23 24]]\n",
      "E: [[ 1  2  3  4  5  6  7  8]\n",
      " [ 9 10 11 12 13 14 15 16]\n",
      " [17 18 19 20 21 22 23 24]]\n",
      "F: [ 0  1  2  3  4  5  6  7  8  9 10 11]\n"
     ]
    }
   ],
   "source": [
    "print(f'A: {A}')\n",
    "print(f'B: {B}')\n",
    "print(f'C: {C}')\n",
    "print(f'D: {D}')\n",
    "print(f'E: {E}')\n",
    "print(f'F: {F}')"
   ]
  },
  {
   "cell_type": "code",
   "execution_count": 181,
   "id": "e1f24bbf-75c0-4665-ae48-7f7bd0bf52fc",
   "metadata": {},
   "outputs": [
    {
     "data": {
      "text/plain": [
       "array([ 2,  5,  8, 11, 14, 17, 20, 23, 26, 29, 32, 35, 38, 41, 44, 47, 50,\n",
       "       53, 56, 59, 62, 65, 68, 71])"
      ]
     },
     "execution_count": 181,
     "metadata": {},
     "output_type": "execute_result"
    }
   ],
   "source": [
    "A+B"
   ]
  },
  {
   "cell_type": "code",
   "execution_count": 182,
   "id": "244a3408-f678-4fe4-ad2a-42c5d61715f8",
   "metadata": {},
   "outputs": [
    {
     "data": {
      "text/plain": [
       "array([[ 0,  2,  4,  6,  8],\n",
       "       [10, 12, 14, 16, 18],\n",
       "       [20, 22, 24, 26, 28],\n",
       "       [30, 32, 34, 36, 38],\n",
       "       [40, 42, 44, 46, 48]])"
      ]
     },
     "execution_count": 182,
     "metadata": {},
     "output_type": "execute_result"
    }
   ],
   "source": [
    "C+D"
   ]
  },
  {
   "cell_type": "code",
   "execution_count": 183,
   "id": "c89b7596-8d8a-424f-a299-37ca80fd6f3a",
   "metadata": {},
   "outputs": [
    {
     "data": {
      "text/plain": [
       "array([ 8,  9, 10, 11, 12, 13, 14, 15, 16, 17, 18, 19, 20, 21, 22, 23, 24,\n",
       "       25, 26, 27, 28, 29, 30, 31])"
      ]
     },
     "execution_count": 183,
     "metadata": {},
     "output_type": "execute_result"
    }
   ],
   "source": [
    "A+7"
   ]
  },
  {
   "cell_type": "code",
   "execution_count": 184,
   "id": "f35a67f8-fd52-4aec-a7a0-09de02549bbb",
   "metadata": {},
   "outputs": [
    {
     "data": {
      "text/plain": [
       "array([ 9, 12, 15, 18, 21, 24, 27, 30, 33, 36, 39, 42, 45, 48, 51, 54, 57,\n",
       "       60, 63, 66, 69, 72, 75, 78])"
      ]
     },
     "execution_count": 184,
     "metadata": {},
     "output_type": "execute_result"
    }
   ],
   "source": [
    "(A+B)+7"
   ]
  },
  {
   "cell_type": "code",
   "execution_count": 185,
   "id": "ef53a842-e173-4d02-8a3e-d6401c6fe12a",
   "metadata": {},
   "outputs": [
    {
     "data": {
      "text/plain": [
       "array([  0,  -1,  -2,  -3,  -4,  -5,  -6,  -7,  -8,  -9, -10, -11, -12,\n",
       "       -13, -14, -15, -16, -17, -18, -19, -20, -21, -22, -23])"
      ]
     },
     "execution_count": 185,
     "metadata": {},
     "output_type": "execute_result"
    }
   ],
   "source": [
    "A-B"
   ]
  },
  {
   "cell_type": "code",
   "execution_count": 186,
   "id": "c4c0c0a1-f55e-4bf9-9fa6-ed1274cd787d",
   "metadata": {},
   "outputs": [
    {
     "data": {
      "text/plain": [
       "array([-6, -5, -4, -3, -2, -1,  0,  1,  2,  3,  4,  5,  6,  7,  8,  9, 10,\n",
       "       11, 12, 13, 14, 15, 16, 17])"
      ]
     },
     "execution_count": 186,
     "metadata": {},
     "output_type": "execute_result"
    }
   ],
   "source": [
    "A-7"
   ]
  },
  {
   "cell_type": "code",
   "execution_count": 187,
   "id": "228b56ec-19d2-4c5e-bd5f-95958ad06414",
   "metadata": {},
   "outputs": [
    {
     "data": {
      "text/plain": [
       "array([   1,    6,   15,   28,   45,   66,   91,  120,  153,  190,  231,\n",
       "        276,  325,  378,  435,  496,  561,  630,  703,  780,  861,  946,\n",
       "       1035, 1128])"
      ]
     },
     "execution_count": 187,
     "metadata": {},
     "output_type": "execute_result"
    }
   ],
   "source": [
    "A*B"
   ]
  },
  {
   "cell_type": "code",
   "execution_count": 188,
   "id": "dd3c30bc-644a-43dc-8d55-2f083233a293",
   "metadata": {},
   "outputs": [
    {
     "data": {
      "text/plain": [
       "array([  7,  14,  21,  28,  35,  42,  49,  56,  63,  70,  77,  84,  91,\n",
       "        98, 105, 112, 119, 126, 133, 140, 147, 154, 161, 168])"
      ]
     },
     "execution_count": 188,
     "metadata": {},
     "output_type": "execute_result"
    }
   ],
   "source": [
    "A*7"
   ]
  },
  {
   "cell_type": "code",
   "execution_count": 189,
   "id": "c3dbd2dd-c82e-41d3-937e-b078213a7b93",
   "metadata": {},
   "outputs": [
    {
     "data": {
      "text/plain": [
       "array([1.        , 0.66666667, 0.6       , 0.57142857, 0.55555556,\n",
       "       0.54545455, 0.53846154, 0.53333333, 0.52941176, 0.52631579,\n",
       "       0.52380952, 0.52173913, 0.52      , 0.51851852, 0.51724138,\n",
       "       0.51612903, 0.51515152, 0.51428571, 0.51351351, 0.51282051,\n",
       "       0.51219512, 0.51162791, 0.51111111, 0.5106383 ])"
      ]
     },
     "execution_count": 189,
     "metadata": {},
     "output_type": "execute_result"
    }
   ],
   "source": [
    "A/B"
   ]
  },
  {
   "cell_type": "code",
   "execution_count": 190,
   "id": "15a3fa7a-bb14-4570-8a17-5ccb2a918d10",
   "metadata": {},
   "outputs": [
    {
     "data": {
      "text/plain": [
       "array([ 0.5,  1. ,  1.5,  2. ,  2.5,  3. ,  3.5,  4. ,  4.5,  5. ,  5.5,\n",
       "        6. ,  6.5,  7. ,  7.5,  8. ,  8.5,  9. ,  9.5, 10. , 10.5, 11. ,\n",
       "       11.5, 12. ])"
      ]
     },
     "execution_count": 190,
     "metadata": {},
     "output_type": "execute_result"
    }
   ],
   "source": [
    "A/2"
   ]
  },
  {
   "cell_type": "code",
   "execution_count": 191,
   "id": "d4e20d8f-4929-4282-9897-d2e173411fc1",
   "metadata": {},
   "outputs": [
    {
     "data": {
      "text/plain": [
       "array([0.33333333, 0.66666667, 1.        , 1.33333333, 1.66666667,\n",
       "       2.        , 2.33333333, 2.66666667, 3.        , 3.33333333,\n",
       "       3.66666667, 4.        , 4.33333333, 4.66666667, 5.        ,\n",
       "       5.33333333, 5.66666667, 6.        , 6.33333333, 6.66666667,\n",
       "       7.        , 7.33333333, 7.66666667, 8.        ])"
      ]
     },
     "execution_count": 191,
     "metadata": {},
     "output_type": "execute_result"
    }
   ],
   "source": [
    "A/3"
   ]
  },
  {
   "cell_type": "code",
   "execution_count": 192,
   "id": "d19a6a2f-7d60-40b1-9e79-e5c1711b59d4",
   "metadata": {},
   "outputs": [
    {
     "data": {
      "text/plain": [
       "array([0.25, 0.5 , 0.75, 1.  , 1.25, 1.5 , 1.75, 2.  , 2.25, 2.5 , 2.75,\n",
       "       3.  , 3.25, 3.5 , 3.75, 4.  , 4.25, 4.5 , 4.75, 5.  , 5.25, 5.5 ,\n",
       "       5.75, 6.  ])"
      ]
     },
     "execution_count": 192,
     "metadata": {},
     "output_type": "execute_result"
    }
   ],
   "source": [
    "A/4"
   ]
  },
  {
   "cell_type": "code",
   "execution_count": 193,
   "id": "179abeef-d151-4e08-80b0-fc860677aa33",
   "metadata": {},
   "outputs": [
    {
     "data": {
      "text/plain": [
       "array([0.2, 0.4, 0.6, 0.8, 1. , 1.2, 1.4, 1.6, 1.8, 2. , 2.2, 2.4, 2.6,\n",
       "       2.8, 3. , 3.2, 3.4, 3.6, 3.8, 4. , 4.2, 4.4, 4.6, 4.8])"
      ]
     },
     "execution_count": 193,
     "metadata": {},
     "output_type": "execute_result"
    }
   ],
   "source": [
    "A/5"
   ]
  },
  {
   "cell_type": "code",
   "execution_count": 194,
   "id": "63dcd7e0-1c88-40c8-b2bf-64ef93d6e396",
   "metadata": {},
   "outputs": [
    {
     "data": {
      "text/plain": [
       "array([[ 150,  160,  170,  180,  190],\n",
       "       [ 400,  435,  470,  505,  540],\n",
       "       [ 650,  710,  770,  830,  890],\n",
       "       [ 900,  985, 1070, 1155, 1240],\n",
       "       [1150, 1260, 1370, 1480, 1590]])"
      ]
     },
     "execution_count": 194,
     "metadata": {},
     "output_type": "execute_result"
    }
   ],
   "source": [
    "np.matmul(C, D)"
   ]
  },
  {
   "cell_type": "code",
   "execution_count": 195,
   "id": "83319fb1-a400-43a5-81f0-52e23b6490e4",
   "metadata": {},
   "outputs": [],
   "source": [
    "#Universal Functions"
   ]
  },
  {
   "cell_type": "code",
   "execution_count": 198,
   "id": "f88151c0-3753-4179-a2ea-4046e53fc2d7",
   "metadata": {},
   "outputs": [
    {
     "data": {
      "text/plain": [
       "array([1.        , 1.41421356, 1.73205081, 2.        , 2.23606798,\n",
       "       2.44948974, 2.64575131, 2.82842712, 3.        , 3.16227766,\n",
       "       3.31662479, 3.46410162, 3.60555128, 3.74165739, 3.87298335,\n",
       "       4.        , 4.12310563, 4.24264069, 4.35889894, 4.47213595,\n",
       "       4.58257569, 4.69041576, 4.79583152, 4.89897949])"
      ]
     },
     "execution_count": 198,
     "metadata": {},
     "output_type": "execute_result"
    }
   ],
   "source": [
    "np.sqrt(A)"
   ]
  },
  {
   "cell_type": "code",
   "execution_count": 199,
   "id": "309eb598-a3d8-46db-a970-1f6bcfecd357",
   "metadata": {},
   "outputs": [
    {
     "data": {
      "text/plain": [
       "array([1.        , 1.73205081, 2.23606798, 2.64575131, 3.        ,\n",
       "       3.31662479, 3.60555128, 3.87298335, 4.12310563, 4.35889894,\n",
       "       4.58257569, 4.79583152, 5.        , 5.19615242, 5.38516481,\n",
       "       5.56776436, 5.74456265, 5.91607978, 6.08276253, 6.244998  ,\n",
       "       6.40312424, 6.55743852, 6.70820393, 6.8556546 ])"
      ]
     },
     "execution_count": 199,
     "metadata": {},
     "output_type": "execute_result"
    }
   ],
   "source": [
    "np.sqrt(B)"
   ]
  },
  {
   "cell_type": "code",
   "execution_count": 200,
   "id": "adacec5b-c46a-4b24-8beb-423e4c3b1389",
   "metadata": {},
   "outputs": [
    {
     "data": {
      "text/plain": [
       "array([[0.        , 1.        , 1.41421356, 1.73205081, 2.        ],\n",
       "       [2.23606798, 2.44948974, 2.64575131, 2.82842712, 3.        ],\n",
       "       [3.16227766, 3.31662479, 3.46410162, 3.60555128, 3.74165739],\n",
       "       [3.87298335, 4.        , 4.12310563, 4.24264069, 4.35889894],\n",
       "       [4.47213595, 4.58257569, 4.69041576, 4.79583152, 4.89897949]])"
      ]
     },
     "execution_count": 200,
     "metadata": {},
     "output_type": "execute_result"
    }
   ],
   "source": [
    "np.sqrt(C)"
   ]
  },
  {
   "cell_type": "code",
   "execution_count": 201,
   "id": "d7140f62-bc16-4c11-ac7f-cfddafce00cd",
   "metadata": {},
   "outputs": [
    {
     "data": {
      "text/plain": [
       "array([[0.        , 1.        , 1.41421356, 1.73205081, 2.        ],\n",
       "       [2.23606798, 2.44948974, 2.64575131, 2.82842712, 3.        ],\n",
       "       [3.16227766, 3.31662479, 3.46410162, 3.60555128, 3.74165739],\n",
       "       [3.87298335, 4.        , 4.12310563, 4.24264069, 4.35889894],\n",
       "       [4.47213595, 4.58257569, 4.69041576, 4.79583152, 4.89897949]])"
      ]
     },
     "execution_count": 201,
     "metadata": {},
     "output_type": "execute_result"
    }
   ],
   "source": [
    "np.sqrt(D)"
   ]
  },
  {
   "cell_type": "code",
   "execution_count": 202,
   "id": "f1eea139-3420-4804-83d9-8dc856b3d6df",
   "metadata": {},
   "outputs": [
    {
     "data": {
      "text/plain": [
       "array([[1.        , 1.41421356, 1.73205081, 2.        , 2.23606798,\n",
       "        2.44948974, 2.64575131, 2.82842712],\n",
       "       [3.        , 3.16227766, 3.31662479, 3.46410162, 3.60555128,\n",
       "        3.74165739, 3.87298335, 4.        ],\n",
       "       [4.12310563, 4.24264069, 4.35889894, 4.47213595, 4.58257569,\n",
       "        4.69041576, 4.79583152, 4.89897949]])"
      ]
     },
     "execution_count": 202,
     "metadata": {},
     "output_type": "execute_result"
    }
   ],
   "source": [
    "np.sqrt(E)"
   ]
  },
  {
   "cell_type": "code",
   "execution_count": 203,
   "id": "e9854d9b-6694-46de-a4a0-bbb6796ca6f4",
   "metadata": {},
   "outputs": [
    {
     "data": {
      "text/plain": [
       "array([0.        , 1.        , 1.41421356, 1.73205081, 2.        ,\n",
       "       2.23606798, 2.44948974, 2.64575131, 2.82842712, 3.        ,\n",
       "       3.16227766, 3.31662479])"
      ]
     },
     "execution_count": 203,
     "metadata": {},
     "output_type": "execute_result"
    }
   ],
   "source": [
    "np.sqrt(F)"
   ]
  },
  {
   "cell_type": "code",
   "execution_count": 208,
   "id": "50eff76e-af51-4aed-b50c-09d86f7638a3",
   "metadata": {},
   "outputs": [
    {
     "data": {
      "text/plain": [
       "array([0.        , 0.69314718, 1.09861229, 1.38629436, 1.60943791,\n",
       "       1.79175947, 1.94591015, 2.07944154, 2.19722458, 2.30258509,\n",
       "       2.39789527, 2.48490665, 2.56494936, 2.63905733, 2.7080502 ,\n",
       "       2.77258872, 2.83321334, 2.89037176, 2.94443898, 2.99573227,\n",
       "       3.04452244, 3.09104245, 3.13549422, 3.17805383])"
      ]
     },
     "execution_count": 208,
     "metadata": {},
     "output_type": "execute_result"
    }
   ],
   "source": [
    "np.log(A)"
   ]
  },
  {
   "cell_type": "code",
   "execution_count": 209,
   "id": "b1519e93-33ca-4806-8543-862558a4d3ea",
   "metadata": {},
   "outputs": [
    {
     "data": {
      "text/plain": [
       "array([[0.        , 0.69314718, 1.09861229, 1.38629436, 1.60943791,\n",
       "        1.79175947, 1.94591015, 2.07944154],\n",
       "       [2.19722458, 2.30258509, 2.39789527, 2.48490665, 2.56494936,\n",
       "        2.63905733, 2.7080502 , 2.77258872],\n",
       "       [2.83321334, 2.89037176, 2.94443898, 2.99573227, 3.04452244,\n",
       "        3.09104245, 3.13549422, 3.17805383]])"
      ]
     },
     "execution_count": 209,
     "metadata": {},
     "output_type": "execute_result"
    }
   ],
   "source": [
    "np.log(E)"
   ]
  },
  {
   "cell_type": "code",
   "execution_count": 210,
   "id": "a5b43fd5-b3f1-4454-91f1-987bd10c4411",
   "metadata": {},
   "outputs": [
    {
     "name": "stderr",
     "output_type": "stream",
     "text": [
      "/var/folders/r3/pdzzngtx1nzc5n6m5_5nm9540000gn/T/ipykernel_48062/3851838312.py:1: RuntimeWarning: divide by zero encountered in log\n",
      "  np.log(F)\n"
     ]
    },
    {
     "data": {
      "text/plain": [
       "array([      -inf, 0.        , 0.69314718, 1.09861229, 1.38629436,\n",
       "       1.60943791, 1.79175947, 1.94591015, 2.07944154, 2.19722458,\n",
       "       2.30258509, 2.39789527])"
      ]
     },
     "execution_count": 210,
     "metadata": {},
     "output_type": "execute_result"
    }
   ],
   "source": [
    "np.log(F)"
   ]
  },
  {
   "cell_type": "code",
   "execution_count": 215,
   "id": "b290fe03-ef8f-4ae1-bc07-8da00e7887b3",
   "metadata": {},
   "outputs": [
    {
     "data": {
      "text/plain": [
       "array([   0,  100,    0,  300,    0,  500,    0,  700,    0,  900,    0,\n",
       "       1100])"
      ]
     },
     "execution_count": 215,
     "metadata": {},
     "output_type": "execute_result"
    }
   ],
   "source": [
    "np.where(F%2==0, 0, F*100)"
   ]
  },
  {
   "cell_type": "code",
   "execution_count": 216,
   "id": "9e6a2a04-9111-4a7a-82c8-0837d0cf9826",
   "metadata": {},
   "outputs": [],
   "source": [
    "#Indexing a 1-demensional Array"
   ]
  },
  {
   "cell_type": "code",
   "execution_count": 217,
   "id": "f84f5663-bde8-46ba-81a1-0aefe97fac67",
   "metadata": {},
   "outputs": [],
   "source": [
    "A = np.arange(18)"
   ]
  },
  {
   "cell_type": "code",
   "execution_count": 218,
   "id": "0f278ff3-b0a3-4ef3-9bc1-b0da4de19788",
   "metadata": {},
   "outputs": [
    {
     "data": {
      "text/plain": [
       "array([ 0,  1,  2,  3,  4,  5,  6,  7,  8,  9, 10, 11, 12, 13, 14, 15, 16,\n",
       "       17])"
      ]
     },
     "execution_count": 218,
     "metadata": {},
     "output_type": "execute_result"
    }
   ],
   "source": [
    "A"
   ]
  },
  {
   "cell_type": "code",
   "execution_count": 220,
   "id": "5a4b8acd-4968-42a2-99b1-d36039ba5be5",
   "metadata": {},
   "outputs": [
    {
     "name": "stdout",
     "output_type": "stream",
     "text": [
      "A[0]: 0\n",
      "A[6]: 6\n",
      "A[17]: 17\n"
     ]
    }
   ],
   "source": [
    "print(f'A[0]: {A[0]}')\n",
    "print(f'A[6]: {A[6]}')\n",
    "print(f'A[17]: {A[17]}')"
   ]
  },
  {
   "cell_type": "code",
   "execution_count": 226,
   "id": "7ffb0a37-ece3-4a51-8d96-a61397aef732",
   "metadata": {},
   "outputs": [
    {
     "data": {
      "text/plain": [
       "array([ 0,  1,  2,  3,  4,  5,  6,  7,  8,  9, 10, 11])"
      ]
     },
     "execution_count": 226,
     "metadata": {},
     "output_type": "execute_result"
    }
   ],
   "source": [
    "A[0:12]"
   ]
  },
  {
   "cell_type": "code",
   "execution_count": 227,
   "id": "4d8e40f6-9055-4d5c-b562-d6ba1ba9e866",
   "metadata": {},
   "outputs": [],
   "source": [
    "A[0:12] = 500000"
   ]
  },
  {
   "cell_type": "code",
   "execution_count": 228,
   "id": "97ec9014-1328-4363-bd03-8ab2921017ae",
   "metadata": {},
   "outputs": [
    {
     "data": {
      "text/plain": [
       "array([500000, 500000, 500000, 500000, 500000, 500000, 500000, 500000,\n",
       "       500000, 500000, 500000, 500000,     12,     13,     14,     15,\n",
       "           16,     17])"
      ]
     },
     "execution_count": 228,
     "metadata": {},
     "output_type": "execute_result"
    }
   ],
   "source": [
    "A"
   ]
  },
  {
   "cell_type": "code",
   "execution_count": 229,
   "id": "e3c81b3e-48b2-43f5-86f4-fedb547b2364",
   "metadata": {},
   "outputs": [],
   "source": [
    "#Indexing 2-demensional Array"
   ]
  },
  {
   "cell_type": "code",
   "execution_count": 230,
   "id": "00a72067-de34-4396-9ce3-7e05cc39cabd",
   "metadata": {},
   "outputs": [],
   "source": [
    "B = np.arange(100).reshape(10,10)"
   ]
  },
  {
   "cell_type": "code",
   "execution_count": 231,
   "id": "2ded4596-bccc-4613-bb11-438a200640e5",
   "metadata": {},
   "outputs": [
    {
     "data": {
      "text/plain": [
       "array([[ 0,  1,  2,  3,  4,  5,  6,  7,  8,  9],\n",
       "       [10, 11, 12, 13, 14, 15, 16, 17, 18, 19],\n",
       "       [20, 21, 22, 23, 24, 25, 26, 27, 28, 29],\n",
       "       [30, 31, 32, 33, 34, 35, 36, 37, 38, 39],\n",
       "       [40, 41, 42, 43, 44, 45, 46, 47, 48, 49],\n",
       "       [50, 51, 52, 53, 54, 55, 56, 57, 58, 59],\n",
       "       [60, 61, 62, 63, 64, 65, 66, 67, 68, 69],\n",
       "       [70, 71, 72, 73, 74, 75, 76, 77, 78, 79],\n",
       "       [80, 81, 82, 83, 84, 85, 86, 87, 88, 89],\n",
       "       [90, 91, 92, 93, 94, 95, 96, 97, 98, 99]])"
      ]
     },
     "execution_count": 231,
     "metadata": {},
     "output_type": "execute_result"
    }
   ],
   "source": [
    "B"
   ]
  },
  {
   "cell_type": "code",
   "execution_count": 232,
   "id": "cfa3d4c3-1edb-4dba-826e-423bed43b221",
   "metadata": {},
   "outputs": [
    {
     "name": "stdout",
     "output_type": "stream",
     "text": [
      "0th row and 1st col in B: 3\n",
      "2nd row and 3rd col in B: 23\n",
      "4th row and 3rd col in B: 43\n"
     ]
    }
   ],
   "source": [
    "print(f'0th row and 1st col in B: {B[0, 3]}')\n",
    "print(f'2nd row and 3rd col in B: {B[2, 3]}')\n",
    "print(f'4th row and 3rd col in B: {B[4, 3]}')"
   ]
  },
  {
   "cell_type": "code",
   "execution_count": 233,
   "id": "cc20542f-f566-44fc-b5eb-547d022ff98c",
   "metadata": {},
   "outputs": [
    {
     "data": {
      "text/plain": [
       "array([[ 3,  4,  5,  6,  7],\n",
       "       [13, 14, 15, 16, 17],\n",
       "       [23, 24, 25, 26, 27],\n",
       "       [33, 34, 35, 36, 37],\n",
       "       [43, 44, 45, 46, 47]])"
      ]
     },
     "execution_count": 233,
     "metadata": {},
     "output_type": "execute_result"
    }
   ],
   "source": [
    "B[0:5, 3:8]"
   ]
  },
  {
   "cell_type": "code",
   "execution_count": 234,
   "id": "4c2788bd-b1a1-46f9-97e2-a4baf8cfab01",
   "metadata": {},
   "outputs": [],
   "source": [
    "B[0:5, 3:8] = 100"
   ]
  },
  {
   "cell_type": "code",
   "execution_count": 235,
   "id": "3cc3524f-2a2d-402a-bc66-b3fc4541cc52",
   "metadata": {},
   "outputs": [
    {
     "data": {
      "text/plain": [
       "array([[  0,   1,   2, 100, 100, 100, 100, 100,   8,   9],\n",
       "       [ 10,  11,  12, 100, 100, 100, 100, 100,  18,  19],\n",
       "       [ 20,  21,  22, 100, 100, 100, 100, 100,  28,  29],\n",
       "       [ 30,  31,  32, 100, 100, 100, 100, 100,  38,  39],\n",
       "       [ 40,  41,  42, 100, 100, 100, 100, 100,  48,  49],\n",
       "       [ 50,  51,  52,  53,  54,  55,  56,  57,  58,  59],\n",
       "       [ 60,  61,  62,  63,  64,  65,  66,  67,  68,  69],\n",
       "       [ 70,  71,  72,  73,  74,  75,  76,  77,  78,  79],\n",
       "       [ 80,  81,  82,  83,  84,  85,  86,  87,  88,  89],\n",
       "       [ 90,  91,  92,  93,  94,  95,  96,  97,  98,  99]])"
      ]
     },
     "execution_count": 235,
     "metadata": {},
     "output_type": "execute_result"
    }
   ],
   "source": [
    "B"
   ]
  },
  {
   "cell_type": "code",
   "execution_count": 236,
   "id": "3ba3a241-336c-4479-aa9a-9294ea41dd52",
   "metadata": {},
   "outputs": [],
   "source": [
    "#Boolean Array Indexing"
   ]
  },
  {
   "cell_type": "code",
   "execution_count": 239,
   "id": "8b20aafd-11b8-4942-b215-da42d23b4774",
   "metadata": {},
   "outputs": [],
   "source": [
    "C = np.arange(75).reshape(3,25)"
   ]
  },
  {
   "cell_type": "code",
   "execution_count": 240,
   "id": "8504e78a-0919-49f5-97a7-a0405034b0f8",
   "metadata": {},
   "outputs": [
    {
     "data": {
      "text/plain": [
       "array([[ 0,  1,  2,  3,  4,  5,  6,  7,  8,  9, 10, 11, 12, 13, 14, 15,\n",
       "        16, 17, 18, 19, 20, 21, 22, 23, 24],\n",
       "       [25, 26, 27, 28, 29, 30, 31, 32, 33, 34, 35, 36, 37, 38, 39, 40,\n",
       "        41, 42, 43, 44, 45, 46, 47, 48, 49],\n",
       "       [50, 51, 52, 53, 54, 55, 56, 57, 58, 59, 60, 61, 62, 63, 64, 65,\n",
       "        66, 67, 68, 69, 70, 71, 72, 73, 74]])"
      ]
     },
     "execution_count": 240,
     "metadata": {},
     "output_type": "execute_result"
    }
   ],
   "source": [
    "C"
   ]
  },
  {
   "cell_type": "code",
   "execution_count": 241,
   "id": "fcaf86b3-c4fb-4559-b947-b00f79ed30a7",
   "metadata": {},
   "outputs": [
    {
     "data": {
      "text/plain": [
       "array([[ True, False,  True, False,  True, False,  True, False,  True,\n",
       "        False,  True, False,  True, False,  True, False,  True, False,\n",
       "         True, False,  True, False,  True, False,  True],\n",
       "       [False,  True, False,  True, False,  True, False,  True, False,\n",
       "         True, False,  True, False,  True, False,  True, False,  True,\n",
       "        False,  True, False,  True, False,  True, False],\n",
       "       [ True, False,  True, False,  True, False,  True, False,  True,\n",
       "        False,  True, False,  True, False,  True, False,  True, False,\n",
       "         True, False,  True, False,  True, False,  True]])"
      ]
     },
     "execution_count": 241,
     "metadata": {},
     "output_type": "execute_result"
    }
   ],
   "source": [
    "C%2==0"
   ]
  },
  {
   "cell_type": "code",
   "execution_count": 242,
   "id": "8633c62e-5c0c-411c-8902-52cd283f2ae0",
   "metadata": {},
   "outputs": [
    {
     "data": {
      "text/plain": [
       "array([[ True, False, False,  True, False, False,  True, False, False,\n",
       "         True, False, False,  True, False, False,  True, False, False,\n",
       "         True, False, False,  True, False, False,  True],\n",
       "       [False, False,  True, False, False,  True, False, False,  True,\n",
       "        False, False,  True, False, False,  True, False, False,  True,\n",
       "        False, False,  True, False, False,  True, False],\n",
       "       [False,  True, False, False,  True, False, False,  True, False,\n",
       "        False,  True, False, False,  True, False, False,  True, False,\n",
       "        False,  True, False, False,  True, False, False]])"
      ]
     },
     "execution_count": 242,
     "metadata": {},
     "output_type": "execute_result"
    }
   ],
   "source": [
    "C%3==0"
   ]
  },
  {
   "cell_type": "code",
   "execution_count": 247,
   "id": "18b548d5-f1f2-42a0-b610-5f05cd6fb91c",
   "metadata": {},
   "outputs": [
    {
     "data": {
      "text/plain": [
       "array([[ True, False,  True,  True,  True,  True,  True, False,  True,\n",
       "         True,  True,  True,  True, False,  True,  True,  True,  True,\n",
       "         True, False,  True,  True,  True,  True,  True],\n",
       "       [False,  True,  True,  True,  True,  True, False,  True,  True,\n",
       "         True,  True,  True, False,  True,  True,  True,  True,  True,\n",
       "        False,  True,  True,  True,  True,  True, False],\n",
       "       [ True,  True,  True,  True,  True, False,  True,  True,  True,\n",
       "         True,  True, False,  True,  True,  True,  True,  True, False,\n",
       "         True,  True,  True,  True,  True, False,  True]])"
      ]
     },
     "execution_count": 247,
     "metadata": {},
     "output_type": "execute_result"
    }
   ],
   "source": [
    "C%2 & C%3 == 0 "
   ]
  },
  {
   "cell_type": "code",
   "execution_count": 248,
   "id": "3e75ae9a-4f93-40d2-a4d5-4fc9cc035ee4",
   "metadata": {},
   "outputs": [
    {
     "data": {
      "text/plain": [
       "38"
      ]
     },
     "execution_count": 248,
     "metadata": {},
     "output_type": "execute_result"
    }
   ],
   "source": [
    "(C % 2 == 0).sum()"
   ]
  },
  {
   "cell_type": "code",
   "execution_count": 253,
   "id": "81bce42f-857a-4b1e-9da5-99fbd507e7a4",
   "metadata": {},
   "outputs": [
    {
     "data": {
      "text/plain": [
       "array([ 0,  2,  4,  6,  8, 10, 12, 14, 16, 18, 20, 22, 24, 26, 28, 30, 32,\n",
       "       34, 36, 38, 40, 42, 44, 46, 48, 50, 52, 54, 56, 58, 60, 62, 64, 66,\n",
       "       68, 70, 72, 74])"
      ]
     },
     "execution_count": 253,
     "metadata": {},
     "output_type": "execute_result"
    }
   ],
   "source": [
    "C[C%2 == 0]"
   ]
  },
  {
   "cell_type": "code",
   "execution_count": 254,
   "id": "b0ca2494-9f7e-42d9-86ea-d76d1c0653ac",
   "metadata": {},
   "outputs": [
    {
     "data": {
      "text/plain": [
       "array([ 0,  3,  6,  9, 12, 15, 18, 21, 24, 27, 30, 33, 36, 39, 42, 45, 48,\n",
       "       51, 54, 57, 60, 63, 66, 69, 72])"
      ]
     },
     "execution_count": 254,
     "metadata": {},
     "output_type": "execute_result"
    }
   ],
   "source": [
    "C[C%3 == 0]"
   ]
  },
  {
   "cell_type": "code",
   "execution_count": null,
   "id": "b4c0a645-ecf7-4401-a59c-fcb8d1c7e489",
   "metadata": {},
   "outputs": [],
   "source": []
  }
 ],
 "metadata": {
  "kernelspec": {
   "display_name": "Python 3 (ipykernel)",
   "language": "python",
   "name": "python3"
  },
  "language_info": {
   "codemirror_mode": {
    "name": "ipython",
    "version": 3
   },
   "file_extension": ".py",
   "mimetype": "text/x-python",
   "name": "python",
   "nbconvert_exporter": "python",
   "pygments_lexer": "ipython3",
   "version": "3.10.6"
  }
 },
 "nbformat": 4,
 "nbformat_minor": 5
}
